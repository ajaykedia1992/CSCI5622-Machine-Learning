{
 "cells": [
  {
   "cell_type": "markdown",
   "metadata": {},
   "source": [
    "# K-Nearest Neighbors Homework Solutions\n",
    "***\n",
    "**Name**: $<$Ajay Kedia$>$ \n",
    "***\n",
    "\n",
    "This assignment is due on Moodle by **5pm on Friday January 26th**. Submit only this Jupyter notebook to Moodle.  Do not compress it using tar, rar, zip, etc. Your solutions to analysis questions should be done in Markdown directly below the associated question.  Remember that you are encouraged to discuss the problems with your instructors and classmates, but **you must write all code and solutions on your own**.  For a refresher on the course **Collaboration Policy** click [here](https://github.com/chrisketelsen/CSCI5622-Machine-Learning/blob/master/resources/syllabus.md#collaboration-policy)\n",
    "\n"
   ]
  },
  {
   "cell_type": "markdown",
   "metadata": {},
   "source": [
    "## Overview \n",
    "***\n",
    "\n",
    "\n",
    "In this homework you'll implement a K-Nearest Neighbor framework to take an image of a handwritten digit and predict which digit it corresponds to.  \n",
    "\n",
    "<br>\n",
    "\n",
    "![Samples of Handwritten Digits](wide_mnist.png \"MNIST Digits\")\n",
    "\n",
    "\n",
    "<br>\n",
    "\n",
    "This homework is designed to be pretty easy. If you're spending a ton of time on this assignment, then you are either:\n",
    "\n",
    "- not prepared to take this course (i.e., if you're struggling with Python)\n",
    "- seriously over-thinking the assignment\n",
    "- trying to implement too much of KNN from scratch\n",
    "\n",
    "\n",
    "Most of this assignment will be done by calling libraries that are already implemented for you. If you are implementing $n$-dimensional search or your own distance metrics, you are generating extra work for yourself and making yourself vulnerable to errors. \n",
    "\n",
    "Here are the rules: \n",
    "\n",
    "- Do **NOT** load or use any Python packages that are not available in Anaconda 3.6. \n",
    "- Some problems with code may be autograded.  If we provide a function or class API **do not** change it.\n",
    "- Do not change the location of the data or data directory.  Use only relative paths to access the data. "
   ]
  },
  {
   "cell_type": "code",
   "execution_count": 2,
   "metadata": {
    "collapsed": true
   },
   "outputs": [],
   "source": [
    "import numpy as np\n",
    "import matplotlib.pylab as plt\n",
    "import matplotlib.cm as cm\n",
    "%matplotlib inline "
   ]
  },
  {
   "cell_type": "markdown",
   "metadata": {},
   "source": [
    "### [5 points] Problem 1\n",
    "***\n",
    "\n",
    "The class below will load and store the MNIST data.  Load the data and then report: \n",
    "- The number of examples in the training set \n",
    "- The number of examples in the test set \n",
    "- The number of pixels in each image. "
   ]
  },
  {
   "cell_type": "code",
   "execution_count": 3,
   "metadata": {
    "collapsed": true
   },
   "outputs": [],
   "source": [
    "class Numbers:\n",
    "    \"\"\"\n",
    "    Class to store MNIST data\n",
    "    \"\"\"\n",
    "    def __init__(self, location):\n",
    "\n",
    "        import pickle, gzip\n",
    "\n",
    "        # load data from file \n",
    "        f = gzip.open(location, 'rb')\n",
    "        train_set, valid_set, test_set = pickle.load(f)\n",
    "        f.close()\n",
    "\n",
    "        # store for use later  \n",
    "        self.train_x, self.train_y = train_set\n",
    "        self.test_x, self.test_y = valid_set"
   ]
  },
  {
   "cell_type": "code",
   "execution_count": 4,
   "metadata": {
    "collapsed": true
   },
   "outputs": [],
   "source": [
    "data = Numbers(\"../data/mnist.pklz\")"
   ]
  },
  {
   "cell_type": "code",
   "execution_count": 4,
   "metadata": {
    "scrolled": true
   },
   "outputs": [
    {
     "name": "stdout",
     "output_type": "stream",
     "text": [
      "No. of pixel - 784\n",
      "No. of example in training data -  50000\n",
      "No. of example in testing data -  10000\n"
     ]
    }
   ],
   "source": [
    "print('No. of pixel -', len(np.array(data.train_x[0])))\n",
    "print('No. of example in training data - ', len(data.train_x))\n",
    "print('No. of example in testing data - ', len(data.test_x))"
   ]
  },
  {
   "cell_type": "markdown",
   "metadata": {},
   "source": [
    "### [30 points] Problem 2\n",
    "***\n",
    "\n",
    "The class below will perform K-Nearest Neighbor classification on our handwritten digit data. Your tasks are as follows:   \n",
    "\n",
    "1. Modify the `label_counts` function to return a dictionary of frequencies corresponding to each label in the training set. \n",
    "1. Modify the `majority` function so that it returns the _label_ that appears most frequently in the $K$-nearest neighbors of the query point.  In the case that the maximum frequency occurs for two or more labels, return the one that appears most frequently in the entire training set. In the case that there is still a tie, break the tie in any way that you choose. \n",
    "1. Modify the `classify` function so that it finds the _indices_ of the $K$ closest training examples to the query point and then calls the `majority` function to return the predicted label. Almost all of the heavy lifting here will be done by the BallTree object from `sklearn.neighbors`, so you'll want to start out by reading the [documentation](http://scikit-learn.org/stable/modules/generated/sklearn.neighbors.BallTree.html).  \n",
    "1. Modify the `confusion_matrix` function to classify examples and record the results in a confusion matrix. You should construct the confusion matrix on your own.  Don't call any additional functions from sklearn to do it for you.\n",
    "\n",
    "The class Knearest also implements an `accuracy` function which you will use in **Problem 3**.  You should not have to modify this function. \n",
    "\n",
    "We've given you unit tests down below based on the simple example worked out in lecture.  At first your code will fail all of them.  Do not move on to **Problem 3** until your code passes all of the unit tests. In addition, passing the unit tests does not guarantee that your implementation is robust and that you'll earn full points on this problem.  You should be designing your own additional tests as well. "
   ]
  },
  {
   "cell_type": "code",
   "execution_count": 5,
   "metadata": {
    "collapsed": true
   },
   "outputs": [],
   "source": [
    "class Knearest:\n",
    "    \"\"\"\n",
    "    kNN classifier\n",
    "    \"\"\"\n",
    "\n",
    "    def __init__(self, X, y, k=5):\n",
    "        \"\"\"\n",
    "        Creates a kNN instance\n",
    "\n",
    "        :param x: Training data input\n",
    "        :param y: Training data output\n",
    "        :param k: The number of nearest points to consider in classification\n",
    "        \"\"\"\n",
    "        \n",
    "        from sklearn.neighbors import BallTree\n",
    "        self._kdtree = BallTree(X)\n",
    "        self._y = y\n",
    "        self._k = k\n",
    "        self._counts = self.label_counts()\n",
    "        \n",
    "    def label_counts(self):\n",
    "        from itertools import groupby\n",
    "        dict = {}\n",
    "        b = np.array(self._y)\n",
    "        b.sort()\n",
    "        for key, group in groupby(b):\n",
    "            dict[key] = len(list(group))\n",
    "        print(dict)\n",
    "        return dict\n",
    "\n",
    "    def majority(self, neighbor_indices):\n",
    "        \"\"\"\n",
    "        Given the indices of training examples, return the majority label. Break ties \n",
    "        by choosing the tied label that appears most often in the training data. \n",
    "\n",
    "        :param neighbor_indices: The indices of the k nearest neighbors\n",
    "        \"\"\"\n",
    "        assert len(neighbor_indices) == self._k, \"Did not get k neighbor indices\"\n",
    "\n",
    "        lablist = {}\n",
    "        for index in neighbor_indices:\n",
    "            index = self._y[index]\n",
    "            if index in lablist.keys():\n",
    "                lablist[index] = lablist[index] + 1\n",
    "            else:\n",
    "                lablist[index] = 1\n",
    "\n",
    "        max = 0;\n",
    "\n",
    "        for key in lablist.keys():\n",
    "            if lablist[key] > max:\n",
    "                max = lablist[key]\n",
    "\n",
    "        labelCount = []\n",
    "\n",
    "        for key in lablist.keys():\n",
    "            if lablist[key] == max:\n",
    "                labelCount.append(key)\n",
    "        label = labelCount[0]\n",
    "        if len(labelCount) > 1:\n",
    "            for i in labelCount:\n",
    "                if self._counts[label] < self._counts[i]:\n",
    "                    label = i\n",
    "\n",
    "        return label\n",
    "    \n",
    "\n",
    "    def classify(self, example):\n",
    "        \"\"\"\n",
    "        Given an example, return the predicted label. \n",
    "\n",
    "        :param example: A representation of an example in the same\n",
    "        format as a row of the training data\n",
    "        \"\"\"\n",
    "        ind = self._kdtree.query(example.reshape(1, -1), self._k, return_distance= False)\n",
    "        ind = ind.flatten() #query is returning 2D array\n",
    "        return self.majority(ind)\n",
    "\n",
    "\n",
    "    def confusion_matrix(self, test_x, test_y):\n",
    "        \"\"\"\n",
    "        Given a matrix of test examples and labels, compute the confusion\n",
    "        matrix for the current classifier.  Should return a 2-dimensional\n",
    "        numpy array of ints, C, where C[ii,jj] is the number of times an \n",
    "        example with true label ii was labeled as jj.\n",
    "\n",
    "        :param test_x: test data \n",
    "        :param test_y: true test labels \n",
    "        \"\"\"\n",
    "        C = np.zeros((10, 10), dtype=int)\n",
    "        for xx, yy in zip(test_x, test_y):\n",
    "            col = self.classify(xx)\n",
    "            C[yy][col] += 1\n",
    "        return C\n",
    "            \n",
    "    @staticmethod\n",
    "    def accuracy(C):\n",
    "        \"\"\"\n",
    "        Given a confusion matrix C, compute the accuracy of the underlying classifier.\n",
    "        \n",
    "        :param C: a confusion matrix \n",
    "        \"\"\"\n",
    "        return np.sum(C.diagonal()) / C.sum()\n",
    "        "
   ]
  },
  {
   "cell_type": "code",
   "execution_count": 32,
   "metadata": {},
   "outputs": [
    {
     "name": "stdout",
     "output_type": "stream",
     "text": [
      "{0: 4932, 1: 5678, 2: 4968, 3: 5101, 4: 4859, 5: 4506, 6: 4951, 7: 5175, 8: 4842, 9: 4988}\n",
      "Done loading data\n"
     ]
    }
   ],
   "source": [
    "knn = Knearest(data.train_x, data.train_y)\n",
    "print(\"Done loading data\")"
   ]
  },
  {
   "cell_type": "code",
   "execution_count": 58,
   "metadata": {},
   "outputs": [
    {
     "name": "stdout",
     "output_type": "stream",
     "text": [
      "\t0\t1\t2\t3\t4\t5\t6\t7\t8\t9\n",
      "------------------------------------------------------------------------------------------\n",
      "0:\t983\t0\t3\t0\t0\t0\t2\t1\t0\t2\n",
      "1:\t0\t1060\t1\t0\t1\t0\t1\t1\t0\t0\n",
      "2:\t3\t9\t953\t2\t1\t1\t1\t17\t1\t2\n",
      "3:\t0\t0\t3\t1007\t0\t6\t1\t4\t6\t3\n",
      "4:\t0\t10\t1\t0\t941\t0\t0\t6\t0\t25\n",
      "5:\t2\t2\t1\t17\t2\t863\t17\t3\t3\t5\n",
      "6:\t1\t0\t0\t0\t0\t1\t965\t0\t0\t0\n",
      "7:\t0\t10\t0\t0\t3\t0\t0\t1070\t0\t7\n",
      "8:\t3\t8\t1\t15\t4\t13\t4\t5\t947\t9\n",
      "9:\t3\t3\t0\t10\t11\t2\t0\t7\t1\t924\n",
      "Accuracy: 97.130000\n"
     ]
    }
   ],
   "source": [
    "confusionmatrix = knn.confusion_matrix(data.test_x, data.test_y)\n",
    "print(\"\\t\" + \"\\t\".join(str(x) for x in range(10)))\n",
    "print(\"\".join([\"-\"] * 90))\n",
    "for ii in range(10):\n",
    "    print(\"%i:\\t\" % ii + \"\\t\".join(str(confusionmatrix[ii][x])\n",
    "                                       for x in range(10)))\n",
    "print(\"Accuracy: %f\" % knn.accuracy(np.asarray(confusionmatrix)))"
   ]
  },
  {
   "cell_type": "markdown",
   "metadata": {},
   "source": [
    "Here are the unit tests.  You don't need to modify them.  Simply execute the cell and observe the output. "
   ]
  },
  {
   "cell_type": "code",
   "execution_count": 8,
   "metadata": {
    "scrolled": true
   },
   "outputs": [
    {
     "name": "stderr",
     "output_type": "stream",
     "text": [
      "...."
     ]
    },
    {
     "name": "stdout",
     "output_type": "stream",
     "text": [
      "{-1: 5, 1: 7}\n",
      "{-1: 5, 1: 7}\n",
      "{-1: 5, 1: 7}\n",
      "{-1: 5, 1: 7}\n",
      "{-1: 5, 1: 7}\n",
      "{-1: 5, 1: 7}\n",
      "{-1: 5, 1: 7}\n",
      "{-1: 5, 1: 7}\n",
      "{-1: 5, 1: 7}\n",
      "{-1: 5, 1: 7}\n",
      "{-1: 5, 1: 7}\n",
      "{-1: 5, 1: 7}\n"
     ]
    },
    {
     "name": "stderr",
     "output_type": "stream",
     "text": [
      "\n",
      "----------------------------------------------------------------------\n",
      "Ran 4 tests in 0.020s\n",
      "\n",
      "OK\n"
     ]
    },
    {
     "data": {
      "text/plain": [
       "<unittest.runner.TextTestResult run=4 errors=0 failures=0>"
      ]
     },
     "execution_count": 8,
     "metadata": {},
     "output_type": "execute_result"
    }
   ],
   "source": [
    "import unittest\n",
    "\n",
    "class TestKnn(unittest.TestCase):\n",
    "    def setUp(self):\n",
    "        self.x = np.array([[2, 0], [4, 1], [6, 0], [1, 4], [2, 4], [2, 5], [4, 4], [0, 2], [3, 2], [4, 2], [5, 2], [5, 5]])\n",
    "        self.y = np.array([+1, +1, +1, +1, +1, +1, +1, -1, -1, -1, -1, -1])\n",
    "        self.knn = {}\n",
    "        for ii in [1, 2, 3]:\n",
    "            self.knn[ii] = Knearest(self.x, self.y, ii)\n",
    "\n",
    "        self.queries = np.array([[1, 5], [0, 3], [6, 4]])\n",
    "        \n",
    "    def test0(self):\n",
    "        \"\"\"\n",
    "        Test the label counter \n",
    "        \"\"\"\n",
    "        self.assertEqual(self.knn[1]._counts[-1], 5)\n",
    "        self.assertEqual(self.knn[1]._counts[1], 7)\n",
    "\n",
    "    def test1(self):\n",
    "        \"\"\"\n",
    "        Test 1NN\n",
    "        \"\"\"\n",
    "        self.assertEqual(self.knn[1].classify(self.queries[0]),  1)\n",
    "        self.assertEqual(self.knn[1].classify(self.queries[1]), -1)\n",
    "        self.assertEqual(self.knn[1].classify(self.queries[2]), -1)\n",
    "\n",
    "    def test2(self):\n",
    "        \"\"\"\n",
    "        Test 2NN\n",
    "        \"\"\"\n",
    "        self.assertEqual(self.knn[2].classify(self.queries[0]),  1)\n",
    "        self.assertEqual(self.knn[2].classify(self.queries[1]),  1)\n",
    "        self.assertEqual(self.knn[2].classify(self.queries[2]),  1)\n",
    "\n",
    "    def test3(self):\n",
    "        \"\"\"\n",
    "        Test 3NN\n",
    "        \"\"\"\n",
    "        self.assertEqual(self.knn[3].classify(self.queries[0]),  1)\n",
    "        self.assertEqual(self.knn[3].classify(self.queries[1]),  1)\n",
    "        self.assertEqual(self.knn[3].classify(self.queries[2]), -1)\n",
    "        \n",
    "tests = TestKnn()\n",
    "tests_to_run = unittest.TestLoader().loadTestsFromModule(tests)\n",
    "unittest.TextTestRunner().run(tests_to_run)"
   ]
  },
  {
   "cell_type": "markdown",
   "metadata": {},
   "source": [
    "### [15 points] Problem 3\n",
    "***\n",
    "\n",
    "In this problem you'll explore the performance of the classifier you've written.  A word of advice: don't use the entire training set, especially at first.  We'll be using this dataset again later on with techniques that scale better.    "
   ]
  },
  {
   "cell_type": "markdown",
   "metadata": {},
   "source": [
    "**Part A**: Explore the relationship between the number of training examples and accuracy on the test set. Comment on your findings and support your observations with some kind of graphic. "
   ]
  },
  {
   "cell_type": "code",
   "execution_count": 10,
   "metadata": {
    "collapsed": true
   },
   "outputs": [],
   "source": [
    "def plot(dict, Xlabel, Ylabel):\n",
    "    lists = sorted(dict.items())\n",
    "    x, y = zip(*lists)  # unpack a list of pairs into two tuples\n",
    "    plt.xlabel(Xlabel)\n",
    "    plt.ylabel(Ylabel)\n",
    "    plt.plot(x, y)\n",
    "    plt.show()\n",
    "    print(dict)"
   ]
  },
  {
   "cell_type": "code",
   "execution_count": 9,
   "metadata": {},
   "outputs": [
    {
     "name": "stdout",
     "output_type": "stream",
     "text": [
      "{0: 4932, 1: 5678, 2: 4968, 3: 5101, 4: 4859, 5: 4506, 6: 4951, 7: 5175, 8: 4842, 9: 4988}\n",
      "Data has been loaded for 1\n",
      "{0: 3992, 1: 4513, 2: 4007, 3: 4085, 4: 3881, 5: 3533, 6: 3921, 7: 4179, 8: 3909, 9: 3980}\n",
      "Data has been loaded for 2\n",
      "{0: 2905, 1: 3399, 2: 2989, 3: 3080, 4: 2898, 5: 2709, 6: 3015, 7: 3102, 8: 2913, 9: 2990}\n",
      "Data has been loaded for 3\n",
      "{0: 2016, 1: 2268, 2: 1991, 3: 2006, 4: 1911, 5: 1736, 6: 2026, 7: 2075, 8: 1968, 9: 2002}\n",
      "Data has been loaded for 4\n",
      "{0: 970, 1: 1157, 2: 985, 3: 980, 4: 970, 5: 941, 6: 956, 7: 1024, 8: 1000, 9: 1017}\n",
      "Data has been loaded for 5\n"
     ]
    },
    {
     "data": {
      "image/png": "[encoded data removed]",
      "text/plain": [
       "<matplotlib.figure.Figure at 0x246ac396b00>"
      ]
     },
     "metadata": {},
     "output_type": "display_data"
    },
    {
     "name": "stdout",
     "output_type": "stream",
     "text": [
      "{100: 0.97130000000000005, 80: 0.96960000000000002, 60: 0.96589999999999998, 40: 0.96140000000000003, 20: 0.95240000000000002}\n"
     ]
    },
    {
     "data": {
      "text/plain": [
       "'from the above instance, as the number of training instances are increasing, our accuracy is also kept on increasing. So the role of training \\n    instances to improve the accuracy of our model. We also get to know that as the number of training increases, the number of unseen value decreases\\n    and so do the outliners.\\n'"
      ]
     },
     "execution_count": 9,
     "metadata": {},
     "output_type": "execute_result"
    }
   ],
   "source": [
    "from sklearn.model_selection import train_test_split\n",
    "\n",
    "def training_accuracy_relationship(X, y):\n",
    "    dict = {}\n",
    "    for i in range(5):\n",
    "        X_train, X_test, y_train, y_test = train_test_split(X, y, test_size=i * 0.2)\n",
    "        knn = Knearest(X_train, y_train)\n",
    "        print(\"Data has been loaded for \" + str(i + 1))\n",
    "        confusionmatrix = knn.confusion_matrix(data.test_x, data.test_y)\n",
    "        dict[100 - i * 20] = knn.accuracy(np.asarray(confusionmatrix))\n",
    "    # d = {100: 97.13000000000001, 80: 96.98, 60: 96.83, 40: 96.11, 20: 94.92}\n",
    "    Xlabel = \"Split Percentage Training Data\"\n",
    "    Ylabel = \"Accuracy\"\n",
    "    plot(dict, Xlabel, Ylabel)\n",
    "\n",
    "training_accuracy_relationship(data.train_x, data.train_y)\n",
    "\n",
    "'''from the above instance, as the number of training instances are increasing, our accuracy is also kept on increasing. So the role of training \n",
    "    instances to improve the accuracy of our model. We also get to know that as the number of training increases, the number of unseen value decreases\n",
    "    and so do the outliners.\n",
    "'''"
   ]
  },
  {
   "cell_type": "markdown",
   "metadata": {},
   "source": [
    "**Part B**: Explore the relationship between the number of nearest neighbors and accuracy on the test set. Comment on your findings and support your observations with some kind of graphic. "
   ]
  },
  {
   "cell_type": "code",
   "execution_count": 11,
   "metadata": {},
   "outputs": [
    {
     "name": "stdout",
     "output_type": "stream",
     "text": [
      "{0: 4932, 1: 5678, 2: 4968, 3: 5101, 4: 4859, 5: 4506, 6: 4951, 7: 5175, 8: 4842, 9: 4988}\n",
      "Data has been loaded for 1\n",
      "{0: 4932, 1: 5678, 2: 4968, 3: 5101, 4: 4859, 5: 4506, 6: 4951, 7: 5175, 8: 4842, 9: 4988}\n",
      "Data has been loaded for 2\n",
      "{0: 4932, 1: 5678, 2: 4968, 3: 5101, 4: 4859, 5: 4506, 6: 4951, 7: 5175, 8: 4842, 9: 4988}\n",
      "Data has been loaded for 3\n",
      "{0: 4932, 1: 5678, 2: 4968, 3: 5101, 4: 4859, 5: 4506, 6: 4951, 7: 5175, 8: 4842, 9: 4988}\n",
      "Data has been loaded for 4\n",
      "{0: 4932, 1: 5678, 2: 4968, 3: 5101, 4: 4859, 5: 4506, 6: 4951, 7: 5175, 8: 4842, 9: 4988}\n",
      "Data has been loaded for 5\n",
      "{0: 4932, 1: 5678, 2: 4968, 3: 5101, 4: 4859, 5: 4506, 6: 4951, 7: 5175, 8: 4842, 9: 4988}\n",
      "Data has been loaded for 6\n",
      "{0: 4932, 1: 5678, 2: 4968, 3: 5101, 4: 4859, 5: 4506, 6: 4951, 7: 5175, 8: 4842, 9: 4988}\n",
      "Data has been loaded for 7\n"
     ]
    },
    {
     "data": {
      "image/png": "[encoded data removed]",
      "text/plain": [
       "<matplotlib.figure.Figure at 0x24683f54080>"
      ]
     },
     "metadata": {},
     "output_type": "display_data"
    },
    {
     "name": "stdout",
     "output_type": "stream",
     "text": [
      "{1: 0.97119999999999995, 2: 0.96419999999999995, 3: 0.97170000000000001, 4: 0.97019999999999995, 5: 0.97130000000000005, 6: 0.96999999999999997, 7: 0.97130000000000005}\n"
     ]
    },
    {
     "data": {
      "text/plain": [
       "'from the below graph we got to know that as the K value increase, the accuracy drops down. So, K is inversely proportional to accuracy of our model'"
      ]
     },
     "execution_count": 11,
     "metadata": {},
     "output_type": "execute_result"
    }
   ],
   "source": [
    "def nearestneighbor_accuracy_relationship(X, y):\n",
    "    dict = {}\n",
    "    for ii in [1, 2, 3, 4, 5, 6, 7]:\n",
    "        knn = Knearest(X, y, ii)\n",
    "        print(\"Data has been loaded for \" + str(ii))\n",
    "        confusionmatrix = knn.confusion_matrix(data.test_x, data.test_y)\n",
    "        dict[ii] = knn.accuracy(np.asarray(confusionmatrix))\n",
    "    \n",
    "    Xlabel = \"K Value\"\n",
    "    Ylabel = \"Accuracy\"\n",
    "    plot(dict, Xlabel, Ylabel)\n",
    "    \n",
    "\n",
    "nearestneighbor_accuracy_relationship(data.train_x, data.train_y)\n",
    "\n",
    "'''from the below graph we got to know that as the K value increase, the accuracy drops down. So, K is inversely proportional to accuracy of our model'''"
   ]
  },
  {
   "cell_type": "markdown",
   "metadata": {},
   "source": [
    "**Part C**: Which numbers get confused with each other the most easily?  Use the confusion_matrix function that you wrote above to support your conclusion.  Then use the `view_digit` function given below to plot a few examples of misclassified digits and discuss possible reasons for the misclassifications.  (Investigating misclassified examples is called **error analysis** and is an important step in the development of any classification technique).  "
   ]
  },
  {
   "cell_type": "code",
   "execution_count": 36,
   "metadata": {},
   "outputs": [
    {
     "name": "stdout",
     "output_type": "stream",
     "text": [
      "\t0\t1\t2\t3\t4\t5\t6\t7\t8\t9\n",
      "------------------------------------------------------------------------------------------\n",
      "0:\t983\t0\t3\t0\t0\t0\t2\t1\t0\t2\n",
      "1:\t0\t1060\t1\t0\t1\t0\t1\t1\t0\t0\n",
      "2:\t3\t9\t953\t2\t1\t1\t1\t17\t1\t2\n",
      "3:\t0\t0\t3\t1007\t0\t6\t1\t4\t6\t3\n",
      "4:\t0\t10\t1\t0\t941\t0\t0\t6\t0\t25\n",
      "5:\t2\t2\t1\t17\t2\t863\t17\t3\t3\t5\n",
      "6:\t1\t0\t0\t0\t0\t1\t965\t0\t0\t0\n",
      "7:\t0\t10\t0\t0\t3\t0\t0\t1070\t0\t7\n",
      "8:\t3\t8\t1\t15\t4\t13\t4\t5\t947\t9\n",
      "9:\t3\t3\t0\t10\t11\t2\t0\t7\t1\t924\n",
      "Accuracy: 0.971300\n"
     ]
    },
    {
     "data": {
      "text/plain": [
       "'from the confusion matrix, we got to know that there are some values which are confused in assigning their lables. for eg. (4,9), (5,3) and (7,9). These number are most confused because they are quite similar when write them by hand.'"
      ]
     },
     "execution_count": 36,
     "metadata": {},
     "output_type": "execute_result"
    }
   ],
   "source": [
    "confusionmatrix = knn.confusion_matrix(data.test_x, data.test_y)\n",
    "print(\"\\t\" + \"\\t\".join(str(x) for x in range(10)))\n",
    "print(\"\".join([\"-\"] * 90))\n",
    "for ii in range(10):\n",
    "    print(\"%i:\\t\" % ii + \"\\t\".join(str(confusionmatrix[ii][x])\n",
    "                                   for x in range(10)))\n",
    "print(\"Accuracy: %f\" % knn.accuracy(np.asarray(confusionmatrix)))\n",
    "'''from the confusion matrix, we got to know that there are some values which are confused in assigning their lables. for eg. (4,9), (5,3) and (7,9). These number are most confused because they are quite similar when write them by hand.'''"
   ]
  },
  {
   "cell_type": "code",
   "execution_count": 69,
   "metadata": {
    "collapsed": true
   },
   "outputs": [],
   "source": [
    "def view_digit(example, label=None):\n",
    "    if label: print(\"true label: {:d}\".format(label))\n",
    "    plt.imshow(255-example.reshape(28,28), cmap='gray');"
   ]
  },
  {
   "cell_type": "code",
   "execution_count": 124,
   "metadata": {},
   "outputs": [
    {
     "name": "stdout",
     "output_type": "stream",
     "text": [
      "{0: 48, 1: 57, 2: 41, 3: 37, 4: 52, 5: 58, 6: 55, 7: 37, 8: 61, 9: 54}\n",
      "Done loading data\n"
     ]
    }
   ],
   "source": [
    "from sklearn.model_selection import train_test_split\n",
    "X_train, X_test, y_train, y_test = train_test_split(data.train_x, data.train_y, test_size=0.99)\n",
    "knn = Knearest(X_train, y_train)\n",
    "print(\"Done loading data\")"
   ]
  },
  {
   "cell_type": "code",
   "execution_count": 75,
   "metadata": {},
   "outputs": [
    {
     "name": "stdout",
     "output_type": "stream",
     "text": [
      "4\n",
      "9\n",
      "true label: 4\n"
     ]
    },
    {
     "data": {
      "text/plain": [
       "'From the below digram, the image looks close to number 9 as many people have habbits to write 9 with its close tip like \"4\" and that is because our alogrithm is confused to detect '"
      ]
     },
     "execution_count": 75,
     "metadata": {},
     "output_type": "execute_result"
    },
    {
     "data": {
      "image/png": "[encoded data removed]",
      "text/plain": [
       "<matplotlib.figure.Figure at 0x22375bd63c8>"
      ]
     },
     "metadata": {},
     "output_type": "display_data"
    }
   ],
   "source": [
    "dict = {}\n",
    "C = np.zeros((10, 10), dtype=int)\n",
    "for xx, yy in zip(X_test, y_test):\n",
    "    col = knn.classify(xx)\n",
    "    if yy != col:\n",
    "        print(col)\n",
    "        print(yy)\n",
    "        view_digit(xx, col)\n",
    "        break\n",
    "\n",
    "'From the below digram, the image looks close to number 9 as many people have habbits to write 9 with its close tip like \"4\" and that is because our alogrithm is confused to detect '"
   ]
  },
  {
   "cell_type": "code",
   "execution_count": 125,
   "metadata": {},
   "outputs": [
    {
     "name": "stdout",
     "output_type": "stream",
     "text": [
      "6\n",
      "0\n",
      "true label: 6\n"
     ]
    },
    {
     "data": {
      "text/plain": [
       "'From the below digram, the image looks close to number 9 as many people have habbits to write 9 with its close tip like \"4\" and that is because our alogrithm is confused to detect '"
      ]
     },
     "execution_count": 125,
     "metadata": {},
     "output_type": "execute_result"
    },
    {
     "data": {
      "image/png": "[encoded data removed]",
      "text/plain": [
       "<matplotlib.figure.Figure at 0x22375ec8ef0>"
      ]
     },
     "metadata": {},
     "output_type": "display_data"
    }
   ],
   "source": [
    "dict = {}\n",
    "C = np.zeros((10, 10), dtype=int)\n",
    "for xx, yy in zip(X_test, y_test):\n",
    "    col = knn.classify(xx)\n",
    "    if yy != col:\n",
    "        print(col)\n",
    "        print(yy)\n",
    "        view_digit(xx, col)\n",
    "        break\n",
    "\n",
    "'From the below digram, the image looks close to number 0 as many people have habbits to write 6 with rounded shape close to tip of it and that is because our alogrithm is confused to detect and detected to 6 as its not rounded entirely. '"
   ]
  },
  {
   "cell_type": "code",
   "execution_count": null,
   "metadata": {
    "collapsed": true
   },
   "outputs": [],
   "source": []
  }
 ],
 "metadata": {
  "kernelspec": {
   "display_name": "Python 3",
   "language": "python",
   "name": "python3"
  },
  "language_info": {
   "codemirror_mode": {
    "name": "ipython",
    "version": 3
   },
   "file_extension": ".py",
   "mimetype": "text/x-python",
   "name": "python",
   "nbconvert_exporter": "python",
   "pygments_lexer": "ipython3",
   "version": "3.6.1"
  }
 },
 "nbformat": 4,
 "nbformat_minor": 2
}
